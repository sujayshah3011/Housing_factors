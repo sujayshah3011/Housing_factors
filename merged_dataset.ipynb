{
 "cells": [
  {
   "cell_type": "code",
   "execution_count": null,
   "id": "7ecc2b91",
   "metadata": {},
   "outputs": [
    {
     "name": "stdout",
     "output_type": "stream",
     "text": [
      "✅ Merged file saved to: final_data.csv\n"
     ]
    },
    {
     "name": "stderr",
     "output_type": "stream",
     "text": [
      "/var/folders/mr/qtj64vb17dl61lb8xp83p5nh0000gp/T/ipykernel_88566/2531833562.py:31: FutureWarning: DataFrame.fillna with 'method' is deprecated and will raise in a future version. Use obj.ffill() or obj.bfill() instead.\n",
      "  merged_df.fillna(method='ffill', inplace=True)\n",
      "/var/folders/mr/qtj64vb17dl61lb8xp83p5nh0000gp/T/ipykernel_88566/2531833562.py:32: FutureWarning: DataFrame.fillna with 'method' is deprecated and will raise in a future version. Use obj.ffill() or obj.bfill() instead.\n",
      "  merged_df.fillna(method='bfill', inplace=True)  # for edge cases at the start\n"
     ]
    }
   ],
   "source": [
    "import pandas as pd\n",
    "import glob\n",
    "import os\n",
    "\n",
    "# Set folder path\n",
    "folder_path = \"/Users/sujayshah/Downloads/Housing\"  \n",
    "output_file = \"final_data.csv\"\n",
    "\n",
    "# Collect all CSVs\n",
    "csv_files = glob.glob(os.path.join(folder_path, \"*.csv\"))\n",
    "\n",
    "# Empty DataFrame to hold merge result\n",
    "merged_df = None\n",
    "\n",
    "# Merge all datasets on 'observation_date' using outer join\n",
    "for file in csv_files:\n",
    "    df = pd.read_csv(file)\n",
    "    df['observation_date'] = pd.to_datetime(df['observation_date'])\n",
    "    if merged_df is None:\n",
    "        merged_df = df\n",
    "    else:\n",
    "        merged_df = pd.merge(merged_df, df, on=\"observation_date\", how=\"outer\")\n",
    "\n",
    "# Sort by date\n",
    "merged_df = merged_df.sort_values(by='observation_date')\n",
    "\n",
    "# Interpolate missing values (linear for numeric fields)\n",
    "merged_df.interpolate(method='linear', inplace=True)\n",
    "\n",
    "# Optionally forward-fill if interpolation doesn't fill all\n",
    "merged_df.fillna(method='ffill', inplace=True)\n",
    "merged_df.fillna(method='bfill', inplace=True)  # for edge cases at the start\n",
    "\n",
    "# Save to CSV\n",
    "merged_df.to_csv(output_file, index=False)\n",
    "\n",
    "print(f\"✅ Merged file saved to: {output_file}\")\n"
   ]
  }
 ],
 "metadata": {
  "kernelspec": {
   "display_name": "Python 3",
   "language": "python",
   "name": "python3"
  },
  "language_info": {
   "codemirror_mode": {
    "name": "ipython",
    "version": 3
   },
   "file_extension": ".py",
   "mimetype": "text/x-python",
   "name": "python",
   "nbconvert_exporter": "python",
   "pygments_lexer": "ipython3",
   "version": "3.11.4"
  }
 },
 "nbformat": 4,
 "nbformat_minor": 5
}
